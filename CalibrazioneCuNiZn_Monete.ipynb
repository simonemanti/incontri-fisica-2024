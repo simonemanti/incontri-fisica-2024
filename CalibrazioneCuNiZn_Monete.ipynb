{
 "cells": [
  {
   "cell_type": "code",
   "execution_count": null,
   "metadata": {},
   "outputs": [],
   "source": [
    "!pip install hist\n",
    "!pip install lmfit\n",
    "!pip install xraylib"
   ]
  },
  {
   "cell_type": "code",
   "execution_count": null,
   "metadata": {},
   "outputs": [],
   "source": [
    "!wget -O 2024_11_11_V20_I300_T100_CuNiZn.mca \"https://raw.githubusercontent.com/simonemanti/incontri-fisica-2024/main/2024_11_14_V20_I300_T100_CuNiZn.mca\""
   ]
  },
  {
   "cell_type": "code",
   "execution_count": null,
   "metadata": {},
   "outputs": [],
   "source": [
    "import glob\n",
    "\n",
    "import json\n",
    "\n",
    "import hist\n",
    "\n",
    "from lmfit import Parameters\n",
    "from lmfit.models import PolynomialModel, GaussianModel, ExponentialModel, PowerLawModel, RectangleModel\n",
    "\n",
    "import matplotlib.pyplot as plt\n",
    "import matplotlib.ticker as ticker\n",
    "from matplotlib.ticker import FuncFormatter\n",
    "\n",
    "import numpy as np\n",
    "\n",
    "import os\n",
    "\n",
    "import pandas as pd\n",
    "\n",
    "import re\n",
    "\n",
    "from scipy.signal import find_peaks\n",
    "\n",
    "from uncertainties import unumpy as unp\n",
    "\n",
    "import xraylib\n",
    "\n",
    "\n",
    "def load_mca_file(mcafile, rebin=1):\n",
    "\n",
    "    df = pd.read_csv(mcafile, encoding='cp1252')\n",
    "    \n",
    "    counts = []\n",
    "    save_data = False\n",
    "\n",
    "    for row in df.to_numpy():\n",
    "        if row[0] == '<<END>>':\n",
    "            save_data = False\n",
    "        if save_data:\n",
    "            counts.append(float(row[0]))\n",
    "        if row[0] == '<<DATA>>':\n",
    "            save_data = True\n",
    "\n",
    "    counts = np.array(counts, dtype=int)    \n",
    "    bins = np.arange(8193)\n",
    "    \n",
    "    histogram = hist.Hist(\n",
    "        hist.axis.Variable(bins, name=\"Ch\", label=\"Channels\"),\n",
    "        storage=hist.storage.Weight(),\n",
    "    )\n",
    "\n",
    "    bin_centers = histogram.axes[0].centers\n",
    "\n",
    "    for center, count in zip(bin_centers, counts):\n",
    "        histogram.fill(np.full(count, center))\n",
    "\n",
    "    return histogram[::hist.rebin(rebin)]"
   ]
  },
  {
   "cell_type": "markdown",
   "metadata": {},
   "source": [
    "# Plot Spettro XRF in canali"
   ]
  },
  {
   "cell_type": "code",
   "execution_count": null,
   "metadata": {},
   "outputs": [],
   "source": [
    "rebin = 4\n",
    "histogram = load_mca_file('2024_11_14_V20_I300_T100_CuNiZn.mca', rebin=rebin)\n",
    "\n",
    "fig, ax = plt.subplots(figsize=(7,3), nrows=1, ncols=1, dpi=150)\n",
    "ax.grid(ls=\":\")\n",
    "# ax.set_yscale('log')\n",
    "\n",
    "centers = histogram.axes[0].centers\n",
    "counts = histogram.values()\n",
    "\n",
    "ax.step(centers, counts, where='mid', c='k', lw=1, label='Dati')\n",
    "\n",
    "ax.legend(loc='upper right')\n",
    "ax.set_xlim(2000,4000)\n",
    "ax.set_ylim(0,counts.max()*1.2)\n",
    "ax.set_xlabel('Canali')\n",
    "ax.set_ylabel(f'Conteggi / {rebin} Canali')"
   ]
  },
  {
   "cell_type": "markdown",
   "metadata": {},
   "source": [
    "# Fit Spettro XRF in Canali"
   ]
  },
  {
   "cell_type": "markdown",
   "metadata": {},
   "source": [
    "Definizione del modello per la funzione di fit:"
   ]
  },
  {
   "cell_type": "code",
   "execution_count": null,
   "metadata": {},
   "outputs": [],
   "source": [
    "model_1 = PolynomialModel(degree=2)\n",
    "\n",
    "model_1 += GaussianModel(prefix='CuKa_')\n",
    "\n"
   ]
  },
  {
   "cell_type": "markdown",
   "metadata": {},
   "source": [
    "Parametri del modello:"
   ]
  },
  {
   "cell_type": "code",
   "execution_count": null,
   "metadata": {},
   "outputs": [],
   "source": [
    "params_1 = Parameters()\n",
    "\n",
    "params_1.add('c0', value=1)\n",
    "params_1.add('c1', value=1)\n",
    "params_1.add('c2', value=1e-2)\n",
    "\n",
    "params_1.add('CuKa_amplitude', value=1e4, min=0)\n",
    "params_1.add('CuKa_center', value=2780)\n",
    "params_1.add('CuKa_sigma', value=30, min=1, max=100)\n",
    "\n"
   ]
  },
  {
   "cell_type": "markdown",
   "metadata": {},
   "source": [
    "Fit:"
   ]
  },
  {
   "cell_type": "code",
   "execution_count": null,
   "metadata": {},
   "outputs": [],
   "source": [
    "ind = np.where(counts > 0)[0]\n",
    "x = centers[ind]\n",
    "y = counts[ind]\n",
    "\n",
    "result_1 = model_1.fit(y, params_1, x=x, weights=1/np.sqrt(y))\n",
    "print(result_1.fit_report(show_correl=False))"
   ]
  },
  {
   "cell_type": "markdown",
   "metadata": {},
   "source": [
    "Plot risultato del fit:"
   ]
  },
  {
   "cell_type": "code",
   "execution_count": null,
   "metadata": {},
   "outputs": [],
   "source": [
    "fig, ax = plt.subplots(figsize=(7,3), nrows=1, ncols=1, dpi=150)\n",
    "ax.grid(ls=\":\")\n",
    "# ax.set_yscale('log')\n",
    "\n",
    "centers = histogram.axes[0].centers\n",
    "counts = histogram.values()\n",
    "\n",
    "x_i = np.linspace(x[0],x[-1], 3000)\n",
    "fit_i = model_1.eval(result_1.params, x=x_i)\n",
    "\n",
    "components = result_1.eval_components(x=x_i)\n",
    "\n",
    "for key in components.keys():\n",
    "    ax.plot(x_i, components[key], lw=0.6)\n",
    "\n",
    "ax.plot(x_i, fit_i, c='r', lw=1, label='Fit')\n",
    "ax.errorbar(centers, counts, np.sqrt(counts), fmt='o', c='k', lw=1., ms=1.5, capsize=0, label='Dati')\n",
    "\n",
    "ax.legend(loc='upper right')\n",
    "ax.set_xlim(2400,3500)\n",
    "ax.set_ylim(0,counts.max()*1.2)\n",
    "# ax.set_ylim(10,1.e4)\n",
    "ax.set_xlabel('Canali')\n",
    "ax.set_ylabel(f'Conteggi / {rebin} Canali')"
   ]
  },
  {
   "cell_type": "markdown",
   "metadata": {},
   "source": [
    "# Fit funzione di Calibrazione"
   ]
  },
  {
   "cell_type": "markdown",
   "metadata": {},
   "source": [
    "Centri dei picchi per le linee Ka:"
   ]
  },
  {
   "cell_type": "code",
   "execution_count": null,
   "metadata": {},
   "outputs": [],
   "source": [
    "params_1 = result_1.params\n",
    "\n",
    "canali = [param.value for param in params_1.values() if 'Ka_center' in param.name]\n",
    "canali"
   ]
  },
  {
   "cell_type": "markdown",
   "metadata": {},
   "source": [
    "Energie di riferimento:"
   ]
  },
  {
   "cell_type": "code",
   "execution_count": null,
   "metadata": {},
   "outputs": [],
   "source": [
    "ref_energies = []\n",
    "\n",
    "ref_energies.append(xraylib.LineEnergy(xraylib.SymbolToAtomicNumber('Ni'), xraylib.KA_LINE) * 1e3)\n",
    "ref_energies.append(xraylib.LineEnergy(xraylib.SymbolToAtomicNumber('Cu'), xraylib.KA_LINE) * 1e3)\n",
    "ref_energies.append(xraylib.LineEnergy(xraylib.SymbolToAtomicNumber('Zn'), xraylib.KA_LINE) * 1e3)\n",
    "\n",
    "ref_energies"
   ]
  },
  {
   "cell_type": "markdown",
   "metadata": {},
   "source": [
    "Plot centri vs energie:"
   ]
  },
  {
   "cell_type": "code",
   "execution_count": null,
   "metadata": {},
   "outputs": [],
   "source": [
    "fig, ax = plt.subplots(figsize=(4,3), nrows=1, ncols=1, dpi=150)\n",
    "ax.grid(ls=\":\")\n",
    "\n",
    "ax.errorbar(canali, ref_energies, fmt='o', c='k', lw=1, ms=3)\n",
    "\n",
    "ax.set_xlabel('Canali')\n",
    "ax.set_ylabel('Energie [eV]')"
   ]
  },
  {
   "cell_type": "markdown",
   "metadata": {},
   "source": [
    "Definizione del modello di fit per la funzione di calibrazione:"
   ]
  },
  {
   "cell_type": "code",
   "execution_count": null,
   "metadata": {},
   "outputs": [],
   "source": [
    "model_2 = ???"
   ]
  },
  {
   "cell_type": "markdown",
   "metadata": {},
   "source": [
    "Parametri della funzione di calibrazione"
   ]
  },
  {
   "cell_type": "code",
   "execution_count": null,
   "metadata": {},
   "outputs": [],
   "source": [
    "???"
   ]
  },
  {
   "cell_type": "markdown",
   "metadata": {},
   "source": [
    "Fit funzione di calibrazione:"
   ]
  },
  {
   "cell_type": "code",
   "execution_count": null,
   "metadata": {},
   "outputs": [],
   "source": [
    "x = ?\n",
    "y = ?\n",
    "\n",
    "result_2 = model_2.fit(y, params_2, x=x)\n",
    "print(result_2.fit_report(show_correl=False))"
   ]
  },
  {
   "cell_type": "markdown",
   "metadata": {},
   "source": [
    "Plot funzione di Calibrazione:"
   ]
  },
  {
   "cell_type": "code",
   "execution_count": null,
   "metadata": {},
   "outputs": [],
   "source": [
    "fig, ax = plt.subplots(figsize=(4,3), nrows=1, ncols=1, dpi=150)\n",
    "ax.grid(ls=\":\")\n",
    "\n",
    "ax.errorbar(canali, ref_energies, fmt='o', c='k', lw=1, ms=3)\n",
    "\n",
    "x_i = np.linspace(2400,3200, 1000)\n",
    "fit_i = model_2.eval(result_2.params, x=x_i)\n",
    "\n",
    "ax.plot(x_i, fit_i, c='r')\n",
    "\n",
    "ax.set_xlim(2500,3100)\n",
    "\n",
    "ax.set_xlabel('Canali')\n",
    "ax.set_ylabel('Energie [eV]')"
   ]
  },
  {
   "cell_type": "markdown",
   "metadata": {},
   "source": [
    "# Calibrazione Spettro in energie"
   ]
  },
  {
   "cell_type": "markdown",
   "metadata": {},
   "source": [
    "$$\n",
    "\n",
    "Energie = offset + gain \\cdot Canali\n",
    "\n",
    "$$"
   ]
  },
  {
   "cell_type": "code",
   "execution_count": null,
   "metadata": {},
   "outputs": [],
   "source": [
    "offset = result_2.params['c0'].value\n",
    "gain = result_2.params['c1'].value\n",
    "\n",
    "energies = ?"
   ]
  },
  {
   "cell_type": "markdown",
   "metadata": {},
   "source": [
    "Plot Spettro XRF calibrato:"
   ]
  },
  {
   "cell_type": "code",
   "execution_count": null,
   "metadata": {},
   "outputs": [],
   "source": [
    "fig, ax = plt.subplots(figsize=(7,3), nrows=1, ncols=1, dpi=150)\n",
    "ax.grid(ls=\":\")\n",
    "# ax.set_yscale('log')\n",
    "\n",
    "ax.axvline(ref_energies[0], c='k', lw=1, ls='--')\n",
    "ax.axvline(ref_energies[1], c='k', lw=1, ls='--')\n",
    "ax.axvline(ref_energies[2], c='k', lw=1, ls='--')\n",
    "\n",
    "ax.step(energies, counts, where='mid', c='k', lw=1)\n",
    "\n",
    "# ax.set_xlim(0,8192)\n",
    "ax.set_xlim(7e3,10e3)\n",
    "ax.set_ylim(0,counts.max()*1.2)\n",
    "ax.set_xlabel('Energie [keV]')\n",
    "ax.set_ylabel(f'Conteggi / {rebin} Canali')\n"
   ]
  },
  {
   "cell_type": "markdown",
   "metadata": {},
   "source": [
    "# Fit spettro calibrato"
   ]
  },
  {
   "cell_type": "code",
   "execution_count": null,
   "metadata": {},
   "outputs": [],
   "source": [
    "model_3 = ???"
   ]
  },
  {
   "cell_type": "code",
   "execution_count": null,
   "metadata": {},
   "outputs": [],
   "source": [
    "ref_energies = []\n",
    "\n",
    "ref_energies.append(xraylib.LineEnergy(xraylib.SymbolToAtomicNumber('Ni'), xraylib.KA_LINE) * 1e3)\n",
    "ref_energies.append(xraylib.LineEnergy(xraylib.SymbolToAtomicNumber('Ni'), xraylib.KB_LINE) * 1e3)\n",
    "ref_energies.append(xraylib.LineEnergy(xraylib.SymbolToAtomicNumber('Cu'), xraylib.KA_LINE) * 1e3)\n",
    "ref_energies.append(xraylib.LineEnergy(xraylib.SymbolToAtomicNumber('Cu'), xraylib.KB_LINE) * 1e3)\n",
    "ref_energies.append(xraylib.LineEnergy(xraylib.SymbolToAtomicNumber('Zn'), xraylib.KA_LINE) * 1e3)\n",
    "ref_energies.append(xraylib.LineEnergy(xraylib.SymbolToAtomicNumber('Zn'), xraylib.KB_LINE) * 1e3)\n",
    "\n",
    "ref_energies = np.array(ref_energies)\n",
    "ref_energies"
   ]
  },
  {
   "cell_type": "code",
   "execution_count": null,
   "metadata": {},
   "outputs": [],
   "source": [
    "delta = 100\n",
    "\n",
    "params_3 = Parameters()\n",
    "\n",
    "params_3.add('ENC', value=120, min=50, max=200)\n",
    "params_3.add('FF', value=0.1, min=0, max=0.2)\n",
    "params_3.add('SiW', value=3.81, vary=False)\n",
    "\n",
    "params_3.add('c0', value=1)\n",
    "params_3.add('c1', value=1)\n",
    "params_3.add('c2', value=1e-2)\n",
    "\n",
    "params_3.add('CuKa_amplitude', value=1e4, min=0)\n",
    "params_3.add('CuKa_center', value=ref_energies[2], min=ref_energies[2]-delta, max=ref_energies[2]+delta)\n",
    "params_3.add('CuKa_sigma', value=30, expr=f'sqrt((ENC/2.35)**2 + FF * CuKa_center * SiW)')"
   ]
  },
  {
   "cell_type": "code",
   "execution_count": null,
   "metadata": {},
   "outputs": [],
   "source": [
    "ind = np.where(counts > 0)[0]\n",
    "x = energies[ind]\n",
    "y = counts[ind]\n",
    "\n",
    "result_3 = model_3.fit(y, params_3, x=x, weights=1/np.sqrt(y))\n",
    "print(result_3.fit_report(show_correl=False))"
   ]
  },
  {
   "cell_type": "code",
   "execution_count": null,
   "metadata": {},
   "outputs": [],
   "source": [
    "fig, ax = plt.subplots(figsize=(7,3), nrows=1, ncols=1, dpi=150)\n",
    "ax.grid(ls=\":\")\n",
    "\n",
    "centers = histogram.axes[0].centers\n",
    "counts = histogram.values()\n",
    "\n",
    "x_i = np.linspace(x[0],x[-1], 3000)\n",
    "fit_i = model_3.eval(result_3.params, x=x_i)\n",
    "\n",
    "components = result_3.eval_components(x=x_i)\n",
    "\n",
    "ax.axvline(ref_energies[0], c='k', lw=1, ls='--')\n",
    "ax.axvline(ref_energies[1], c='k', lw=1, ls='--')\n",
    "ax.axvline(ref_energies[2], c='k', lw=1, ls='--')\n",
    "ax.axvline(ref_energies[3], c='k', lw=1, ls='--')\n",
    "ax.axvline(ref_energies[4], c='k', lw=1, ls='--')\n",
    "ax.axvline(ref_energies[5], c='k', lw=1, ls='--')\n",
    "\n",
    "for key in components.keys():\n",
    "    ax.plot(x_i, components[key], lw=0.6)\n",
    "\n",
    "ax.errorbar(energies, counts, np.sqrt(counts), fmt='o', c='k', lw=1., ms=1.5, capsize=0, label='Dati')\n",
    "ax.plot(x_i, fit_i, c='r', lw=1, label='Fit')\n",
    "\n",
    "ax.legend(loc='upper right')\n",
    "ax.set_xlim(7000,10000)\n",
    "ax.set_ylim(0,counts.max()*1.2)\n",
    "# ax.set_yscale('log')\n",
    "# ax.set_ylim(10,1.e4)\n",
    "ax.set_xlabel('Energie [eV]')\n",
    "ax.set_ylabel(f'Conteggi / {rebin} Canali')"
   ]
  },
  {
   "cell_type": "markdown",
   "metadata": {},
   "source": [
    "# Calcolo Residui"
   ]
  },
  {
   "cell_type": "code",
   "execution_count": null,
   "metadata": {},
   "outputs": [],
   "source": [
    "params_3 = result_3.params\n",
    "\n",
    "energie_fit = np.array([param.value for param in params_3.values() if 'center' in param.name])\n",
    "err_energie_fit = np.array([param.stderr for param in params_3.values() if 'center' in param.name])\n",
    "labels = [param.name.split('_')[0] for param in params_3.values() if 'center' in param.name]\n",
    "\n",
    "energie_fit"
   ]
  },
  {
   "cell_type": "code",
   "execution_count": null,
   "metadata": {},
   "outputs": [],
   "source": [
    "fig, ax = plt.subplots(figsize=(7,3), nrows=1, ncols=1, dpi=150)\n",
    "ax.grid(ls=\":\")\n",
    "\n",
    "residui = energie_fit - ref_energies\n",
    "\n",
    "ax.axhline(0, c='k', lw=1, ls='--')\n",
    "\n",
    "ax.errorbar(range(6), residui, err_energie_fit, fmt='o', c='k', ms=3, capsize=2)\n",
    "\n",
    "ax.set_xticks(range(6))\n",
    "ax.set_xticklabels(labels)\n",
    "ax.set_ylabel('Residui [eV]')\n"
   ]
  },
  {
   "cell_type": "code",
   "execution_count": null,
   "metadata": {},
   "outputs": [],
   "source": [
    "REBIN = 4\n",
    "\n",
    "amplitudes_values = [param.value / REBIN for param in params_3.values() if 'Ka_amplitude' in param.name]\n",
    "amplitudes_errors = [param.stderr / REBIN for param in params_3.values() if 'Ka_amplitude' in param.name]\n",
    "\n",
    "amplitudes = unp.uarray(amplitudes_values, amplitudes_errors)\n",
    "wts = amplitudes / amplitudes.sum() * 100"
   ]
  },
  {
   "cell_type": "code",
   "execution_count": null,
   "metadata": {},
   "outputs": [],
   "source": [
    "fig, ax = plt.subplots(figsize=(5,3), nrows=1, ncols=1, dpi=150)\n",
    "ax.grid(ls=\":\")\n",
    "ax.set_axisbelow(True)\n",
    "\n",
    "ax.errorbar(range(3), unp.nominal_values(wts), unp.std_devs(wts), fmt='o', ms=4, label='XRF')\n",
    "ax.errorbar(range(3), [12,64,24], fmt='o', ms=4, label='Nominal')\n",
    "\n",
    "ax.legend()\n",
    "ax.set_xlim(-0.5,2.5)\n",
    "ax.set_ylim(0,100)\n",
    "ax.set_xticks([0,1,2])\n",
    "ax.set_xticklabels(['Ni','Cu','Zn'])\n",
    "ax.set_ylabel('Concentrazione  %')"
   ]
  },
  {
   "cell_type": "markdown",
   "metadata": {},
   "source": [
    "# Monete"
   ]
  },
  {
   "cell_type": "code",
   "execution_count": null,
   "metadata": {},
   "outputs": [],
   "source": [
    "!wget -O 2024_11_11_V20_I300_T100_1euro.mca \"https://raw.githubusercontent.com/simonemanti/incontri-fisica-2024/main/2024_11_14_V20_I300_T100_1euro.mca\"\n",
    "!wget -O 2024_11_11_V20_I300_T100_2euro.mca \"https://raw.githubusercontent.com/simonemanti/incontri-fisica-2024/main/2024_11_14_V20_I300_T100_2euro.mca\""
   ]
  },
  {
   "cell_type": "code",
   "execution_count": null,
   "metadata": {},
   "outputs": [],
   "source": [
    "rebin = 4\n",
    "histogram_1 = load_mca_file('2024_11_14_V20_I300_T100_1euro.mca', rebin=rebin)\n",
    "histogram_2 = load_mca_file('2024_11_14_V20_I300_T100_2euro.mca', rebin=rebin)\n",
    "\n",
    "fig, ax = plt.subplots(figsize=(7,3), nrows=1, ncols=1, dpi=150)\n",
    "ax.grid(ls=\":\")\n",
    "# ax.set_yscale('log')\n",
    "\n",
    "centers_1 = histogram_1.axes[0].centers\n",
    "counts_1 = histogram_1.values()\n",
    "energies_1 = gain * centers_1 + offset\n",
    "\n",
    "centers_2 = histogram_2.axes[0].centers\n",
    "counts_2 = histogram_2.values()\n",
    "energies_2 = gain * centers_2 + offset\n",
    "\n",
    "ax.step(energies_1, counts_1, where='mid', c='C0', lw=1.5, label='?')\n",
    "ax.step(energies_2, counts_2, where='mid', c='C1', lw=1.5, label='?')\n",
    "\n",
    "ax.legend(loc='upper right')\n",
    "ax.set_xlim(7000,10000)\n",
    "ax.set_ylim(0,counts_1.max()*1.2)\n",
    "ax.set_xlabel('Energie [eV]')\n",
    "ax.set_ylabel(f'Conteggi / {np.diff(energies_1)[0]:.0f} eV')"
   ]
  },
  {
   "cell_type": "markdown",
   "metadata": {},
   "source": [
    "## Moneta 1"
   ]
  },
  {
   "cell_type": "code",
   "execution_count": null,
   "metadata": {},
   "outputs": [],
   "source": [
    "ind = np.where(counts_1 > 0)[0]\n",
    "x = energies_1[ind]\n",
    "y = counts_1[ind]\n",
    "\n",
    "result_4 = model_3.fit(y, params_3, x=x, weights=1/np.sqrt(y))\n",
    "print(result_4.fit_report(show_correl=False))"
   ]
  },
  {
   "cell_type": "code",
   "execution_count": null,
   "metadata": {},
   "outputs": [],
   "source": [
    "REBIN = 4\n",
    "width = 1\n",
    "\n",
    "params_4 = result_4.params\n",
    "\n",
    "amplitudes_values_1 = [param.value / REBIN / width for param in params_4.values() if 'Ka_amplitude' in param.name]\n",
    "amplitudes_errors_1 = [param.stderr / REBIN / width for param in params_4.values() if 'Ka_amplitude' in param.name]\n",
    "\n",
    "amplitudes_1 = unp.uarray(amplitudes_values_1, amplitudes_errors_1)\n",
    "wts_1 = amplitudes_1 / amplitudes_1.sum() * 100\n",
    "\n",
    "fig, ax = plt.subplots(figsize=(5,3), nrows=1, ncols=1, dpi=150)\n",
    "ax.grid(ls=\":\")\n",
    "ax.set_axisbelow(True)\n",
    "\n",
    "ax.errorbar(range(3), unp.nominal_values(wts_1), unp.std_devs(wts_1), fmt='o', ms=4, label='XRF')\n",
    "ax.errorbar(range(3), [25,75,0], fmt='o', ms=4, label='Nominal')\n",
    "# ax.errorbar(range(3), [5,75,20], fmt='o', ms=4, label='Nominal')\n",
    "\n",
    "ax.legend()\n",
    "ax.set_xlim(-0.5,2.5)\n",
    "ax.set_ylim(0,100)\n",
    "ax.set_xticks([0,1,2])\n",
    "ax.set_xticklabels(['Ni','Cu','Zn'])\n",
    "ax.set_ylabel('Concentrazione  %')"
   ]
  },
  {
   "cell_type": "markdown",
   "metadata": {},
   "source": [
    "## Moneta 2"
   ]
  },
  {
   "cell_type": "code",
   "execution_count": null,
   "metadata": {},
   "outputs": [],
   "source": [
    "ind = np.where(counts_2 > 0)[0]\n",
    "x = energies_2[ind]\n",
    "y = counts_2[ind]\n",
    "\n",
    "result_5 = model_3.fit(y, params_3, x=x, weights=1/np.sqrt(y))\n",
    "print(result_5.fit_report(show_correl=False))"
   ]
  },
  {
   "cell_type": "code",
   "execution_count": null,
   "metadata": {},
   "outputs": [],
   "source": [
    "params_5 = result_5.params\n",
    "\n",
    "amplitudes_values_2 = [param.value / REBIN / width for param in params_5.values() if 'Ka_amplitude' in param.name]\n",
    "amplitudes_errors_2 = [param.stderr / REBIN / width for param in params_5.values() if 'Ka_amplitude' in param.name]\n",
    "\n",
    "amplitudes_2 = unp.uarray(amplitudes_values_2, amplitudes_errors_2)\n",
    "wts_2 = amplitudes_2 / amplitudes_2.sum() * 100\n",
    "\n",
    "fig, ax = plt.subplots(figsize=(5,3), nrows=1, ncols=1, dpi=150)\n",
    "ax.grid(ls=\":\")\n",
    "ax.set_axisbelow(True)\n",
    "\n",
    "ax.errorbar(range(3), unp.nominal_values(wts_2), unp.std_devs(wts_2), fmt='o', ms=4, label='XRF')\n",
    "# ax.errorbar(range(3), [25,75,0], fmt='o', ms=4, label='Nominal')\n",
    "ax.errorbar(range(3), [5,75,20], fmt='o', ms=4, label='Nominal')\n",
    "\n",
    "ax.legend()\n",
    "ax.set_xlim(-0.5,2.5)\n",
    "ax.set_ylim(0,100)\n",
    "ax.set_xticks([0,1,2])\n",
    "ax.set_xticklabels(['Ni','Cu','Zn'])\n",
    "ax.set_ylabel('Concentrazione  %')"
   ]
  }
 ],
 "metadata": {
  "kernelspec": {
   "display_name": "base",
   "language": "python",
   "name": "python3"
  },
  "language_info": {
   "codemirror_mode": {
    "name": "ipython",
    "version": 3
   },
   "file_extension": ".py",
   "mimetype": "text/x-python",
   "name": "python",
   "nbconvert_exporter": "python",
   "pygments_lexer": "ipython3",
   "version": "3.11.6"
  }
 },
 "nbformat": 4,
 "nbformat_minor": 2
}
